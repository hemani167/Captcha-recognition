{
  "nbformat": 4,
  "nbformat_minor": 0,
  "metadata": {
    "colab": {
      "name": "Captch_recognition.ipynb",
      "provenance": []
    },
    "kernelspec": {
      "name": "python3",
      "display_name": "Python 3"
    },
    "language_info": {
      "name": "python"
    }
  },
  "cells": [
    {
      "cell_type": "code",
      "source": [
        "from google.colab import drive\n",
        "drive.mount('/content/drive')"
      ],
      "metadata": {
        "colab": {
          "base_uri": "https://localhost:8080/"
        },
        "id": "XFhWgfFkqfhG",
        "outputId": "e353cfad-22d2-46b9-bf3a-1f7b9e5a6adb"
      },
      "execution_count": null,
      "outputs": [
        {
          "output_type": "stream",
          "name": "stdout",
          "text": [
            "Drive already mounted at /content/drive; to attempt to forcibly remount, call drive.mount(\"/content/drive\", force_remount=True).\n"
          ]
        }
      ]
    },
    {
      "cell_type": "code",
      "source": [
        "!unzip /content/drive/MyDrive/DL_dataset/captcha2.zip"
      ],
      "metadata": {
        "colab": {
          "base_uri": "https://localhost:8080/"
        },
        "id": "MP_Q5RCJqpeq",
        "outputId": "e5975d36-0e58-4e0f-f6d1-1b3d526c392e"
      },
      "execution_count": null,
      "outputs": [
        {
          "output_type": "stream",
          "name": "stdout",
          "text": [
            "Archive:  /content/drive/MyDrive/DL_dataset/captcha2.zip\n",
            "replace samples/226md.png? [y]es, [n]o, [A]ll, [N]one, [r]ename: "
          ]
        }
      ]
    },
    {
      "cell_type": "code",
      "source": [
        "\n",
        "!cd /content/drive/MyDrive/DL_dataset/\n",
        "# !ls"
      ],
      "metadata": {
        "id": "5auoLDhqyp_M"
      },
      "execution_count": null,
      "outputs": []
    },
    {
      "cell_type": "code",
      "source": [
        "# !cd /samples\n",
        "!ls"
      ],
      "metadata": {
        "colab": {
          "base_uri": "https://localhost:8080/"
        },
        "id": "w66lL3kNzSRC",
        "outputId": "d818fbba-3a21-49f8-8f82-7797d91236be"
      },
      "execution_count": null,
      "outputs": [
        {
          "output_type": "stream",
          "name": "stdout",
          "text": [
            "bin\t      content  home   media  python-apt  sbin\t\t    tmp\n",
            "boot\t      datalab  lib    mnt    root\t srv\t\t    tools\n",
            "capthaimage   dev      lib32  opt    run\t sys\t\t    usr\n",
            "capthaimages  etc      lib64  proc   samples\t tensorflow-1.15.2  var\n"
          ]
        }
      ]
    },
    {
      "cell_type": "code",
      "source": [
        "from keras import layers\n",
        "from keras.models import Model\n",
        "from keras.models import load_model\n",
        "from keras import callbacks\n",
        "import os\n",
        "import cv2\n",
        "import string\n",
        "import numpy as np"
      ],
      "metadata": {
        "id": "rvlUrq0twpN0"
      },
      "execution_count": null,
      "outputs": []
    },
    {
      "cell_type": "code",
      "source": [
        "symbols = string.ascii_lowercase + \"0123456789\" # All symbols captcha can contain\n",
        "num_symbols = len(symbols)\n",
        "img_shape = (50, 200, 1)"
      ],
      "metadata": {
        "id": "39f8ne72w26C"
      },
      "execution_count": null,
      "outputs": []
    },
    {
      "cell_type": "code",
      "source": [
        "def preprocess_data():\n",
        "    n_samples = len(os.listdir('/content/samples'))\n",
        "    X = np.zeros((n_samples, 50, 200, 1)) #1070*50*200\n",
        "    y = np.zeros((5, n_samples, num_symbols)) #5*1070*36\n",
        "\n",
        "    for i, pic in enumerate(os.listdir('/content/samples')):\n",
        "        img = cv2.imread(os.path.join('/content/samples', pic), cv2.IMREAD_GRAYSCALE)\n",
        "        pic_target = pic[:-4]\n",
        "        # print(pic_target)\n",
        "        if len(pic_target) < 6:\n",
        "            img = img / 255.0\n",
        "            img = np.reshape(img, (50, 200, 1))\n",
        "            targs = np.zeros((5, num_symbols))\n",
        "            for j, l in enumerate(pic_target):\n",
        "                ind = symbols.find(l)\n",
        "                targs[j, ind] = 1\n",
        "            X[i] = img\n",
        "            y[:, i] = targs\n",
        "    \n",
        "    return X, y\n",
        "\n",
        "X, y = preprocess_data()\n",
        "\n",
        "X_train, y_train = X[:970], y[:, :970]\n",
        "X_test, y_test = X[970:], y[:, 970:]\n",
        "np.size(y_train[0])"
      ],
      "metadata": {
        "id": "b8vYzjpwyiWH",
        "colab": {
          "base_uri": "https://localhost:8080/"
        },
        "outputId": "f8e1cdd1-cfcf-4fc7-fa37-29275fe1d615"
      },
      "execution_count": null,
      "outputs": [
        {
          "output_type": "execute_result",
          "data": {
            "text/plain": [
              "array([[0., 0., 0., ..., 0., 0., 0.],\n",
              "       [0., 0., 0., ..., 0., 0., 0.],\n",
              "       [0., 0., 0., ..., 0., 0., 0.],\n",
              "       ...,\n",
              "       [0., 0., 0., ..., 0., 0., 0.],\n",
              "       [0., 0., 0., ..., 0., 0., 0.],\n",
              "       [0., 0., 0., ..., 0., 0., 0.]])"
            ]
          },
          "metadata": {},
          "execution_count": 19
        }
      ]
    },
    {
      "cell_type": "code",
      "source": [
        "def create_model():\n",
        "    img = layers.Input(shape=img_shape) # Get image as an input and process it through some Convs\n",
        "    conv1 = layers.Conv2D(16, (3, 3), padding='same', activation='relu')(img)\n",
        "    mp1 = layers.MaxPooling2D(padding='same')(conv1)  # 100x25\n",
        "    conv2 = layers.Conv2D(32, (3, 3), padding='same', activation='relu')(mp1)\n",
        "    mp2 = layers.MaxPooling2D(padding='same')(conv2)  # 50x13\n",
        "    conv3 = layers.Conv2D(32, (3, 3), padding='same', activation='relu')(mp2)\n",
        "    bn = layers.BatchNormalization()(conv3)\n",
        "    mp3 = layers.MaxPooling2D(padding='same')(bn)  # 25x7\n",
        "    \n",
        "    flat = layers.Flatten()(mp3)\n",
        "    outs = []\n",
        "    for _ in range(5):\n",
        "        dens1 = layers.Dense(64, activation='relu')(flat)\n",
        "        drop = layers.Dropout(0.5)(dens1)\n",
        "        res = layers.Dense(num_symbols, activation='softmax')(drop)\n",
        "\n",
        "        outs.append(res)\n",
        "    \n",
        "    model = Model(img, outs)\n",
        "    model.compile(loss='categorical_crossentropy', optimizer='adam',metrics=[\"accuracy\"])\n",
        "    return model"
      ],
      "metadata": {
        "id": "9MekdBZ_0Bvg"
      },
      "execution_count": null,
      "outputs": []
    },
    {
      "cell_type": "code",
      "source": [
        "model=create_model();\n",
        "model.summary();"
      ],
      "metadata": {
        "colab": {
          "base_uri": "https://localhost:8080/"
        },
        "id": "pdKrxQxN45Nt",
        "outputId": "59a73499-7b78-4f13-8191-eade2622653c"
      },
      "execution_count": null,
      "outputs": [
        {
          "output_type": "stream",
          "name": "stdout",
          "text": [
            "Model: \"model_1\"\n",
            "__________________________________________________________________________________________________\n",
            " Layer (type)                   Output Shape         Param #     Connected to                     \n",
            "==================================================================================================\n",
            " input_2 (InputLayer)           [(None, 50, 200, 1)  0           []                               \n",
            "                                ]                                                                 \n",
            "                                                                                                  \n",
            " conv2d_3 (Conv2D)              (None, 50, 200, 16)  160         ['input_2[0][0]']                \n",
            "                                                                                                  \n",
            " max_pooling2d_3 (MaxPooling2D)  (None, 25, 100, 16)  0          ['conv2d_3[0][0]']               \n",
            "                                                                                                  \n",
            " conv2d_4 (Conv2D)              (None, 25, 100, 32)  4640        ['max_pooling2d_3[0][0]']        \n",
            "                                                                                                  \n",
            " max_pooling2d_4 (MaxPooling2D)  (None, 13, 50, 32)  0           ['conv2d_4[0][0]']               \n",
            "                                                                                                  \n",
            " conv2d_5 (Conv2D)              (None, 13, 50, 32)   9248        ['max_pooling2d_4[0][0]']        \n",
            "                                                                                                  \n",
            " batch_normalization_1 (BatchNo  (None, 13, 50, 32)  128         ['conv2d_5[0][0]']               \n",
            " rmalization)                                                                                     \n",
            "                                                                                                  \n",
            " max_pooling2d_5 (MaxPooling2D)  (None, 7, 25, 32)   0           ['batch_normalization_1[0][0]']  \n",
            "                                                                                                  \n",
            " flatten_1 (Flatten)            (None, 5600)         0           ['max_pooling2d_5[0][0]']        \n",
            "                                                                                                  \n",
            " dense_10 (Dense)               (None, 64)           358464      ['flatten_1[0][0]']              \n",
            "                                                                                                  \n",
            " dense_12 (Dense)               (None, 64)           358464      ['flatten_1[0][0]']              \n",
            "                                                                                                  \n",
            " dense_14 (Dense)               (None, 64)           358464      ['flatten_1[0][0]']              \n",
            "                                                                                                  \n",
            " dense_16 (Dense)               (None, 64)           358464      ['flatten_1[0][0]']              \n",
            "                                                                                                  \n",
            " dense_18 (Dense)               (None, 64)           358464      ['flatten_1[0][0]']              \n",
            "                                                                                                  \n",
            " dropout_5 (Dropout)            (None, 64)           0           ['dense_10[0][0]']               \n",
            "                                                                                                  \n",
            " dropout_6 (Dropout)            (None, 64)           0           ['dense_12[0][0]']               \n",
            "                                                                                                  \n",
            " dropout_7 (Dropout)            (None, 64)           0           ['dense_14[0][0]']               \n",
            "                                                                                                  \n",
            " dropout_8 (Dropout)            (None, 64)           0           ['dense_16[0][0]']               \n",
            "                                                                                                  \n",
            " dropout_9 (Dropout)            (None, 64)           0           ['dense_18[0][0]']               \n",
            "                                                                                                  \n",
            " dense_11 (Dense)               (None, 36)           2340        ['dropout_5[0][0]']              \n",
            "                                                                                                  \n",
            " dense_13 (Dense)               (None, 36)           2340        ['dropout_6[0][0]']              \n",
            "                                                                                                  \n",
            " dense_15 (Dense)               (None, 36)           2340        ['dropout_7[0][0]']              \n",
            "                                                                                                  \n",
            " dense_17 (Dense)               (None, 36)           2340        ['dropout_8[0][0]']              \n",
            "                                                                                                  \n",
            " dense_19 (Dense)               (None, 36)           2340        ['dropout_9[0][0]']              \n",
            "                                                                                                  \n",
            "==================================================================================================\n",
            "Total params: 1,818,196\n",
            "Trainable params: 1,818,132\n",
            "Non-trainable params: 64\n",
            "__________________________________________________________________________________________________\n"
          ]
        }
      ]
    },
    {
      "cell_type": "code",
      "source": [
        "import tensorflow as tf\n",
        "callback = tf.keras.callbacks.EarlyStopping(\n",
        "    monitor='dense_20_acc', min_delta=0, patience=5, verbose=0,\n",
        "    mode='auto', baseline=None\n",
        ")"
      ],
      "metadata": {
        "id": "iJhBp8Cz47s1"
      },
      "execution_count": null,
      "outputs": []
    },
    {
      "cell_type": "code",
      "source": [
        "#model = create_model()\n",
        "hist = model.fit(X_train, [y_train[0], y_train[1], y_train[2], y_train[3], y_train[4]], batch_size=32, epochs=20,verbose=1, validation_split=0.2, callbacks = [callback])"
      ],
      "metadata": {
        "colab": {
          "base_uri": "https://localhost:8080/"
        },
        "id": "3j2mfM2K6QPc",
        "outputId": "addd0318-292d-4696-c6df-236c6d3caf6b"
      },
      "execution_count": null,
      "outputs": [
        {
          "output_type": "stream",
          "name": "stdout",
          "text": [
            "Epoch 1/20\n",
            "25/25 [==============================] - ETA: 0s - loss: 17.8804 - dense_11_loss: 3.6019 - dense_13_loss: 3.5636 - dense_15_loss: 3.5545 - dense_17_loss: 3.6010 - dense_19_loss: 3.5594 - dense_11_accuracy: 0.0528 - dense_13_accuracy: 0.0709 - dense_15_accuracy: 0.0477 - dense_17_accuracy: 0.0541 - dense_19_accuracy: 0.0593WARNING:tensorflow:Early stopping conditioned on metric `dense_20_acc` which is not available. Available metrics are: loss,dense_11_loss,dense_13_loss,dense_15_loss,dense_17_loss,dense_19_loss,dense_11_accuracy,dense_13_accuracy,dense_15_accuracy,dense_17_accuracy,dense_19_accuracy,val_loss,val_dense_11_loss,val_dense_13_loss,val_dense_15_loss,val_dense_17_loss,val_dense_19_loss,val_dense_11_accuracy,val_dense_13_accuracy,val_dense_15_accuracy,val_dense_17_accuracy,val_dense_19_accuracy\n",
            "25/25 [==============================] - 10s 297ms/step - loss: 17.8804 - dense_11_loss: 3.6019 - dense_13_loss: 3.5636 - dense_15_loss: 3.5545 - dense_17_loss: 3.6010 - dense_19_loss: 3.5594 - dense_11_accuracy: 0.0528 - dense_13_accuracy: 0.0709 - dense_15_accuracy: 0.0477 - dense_17_accuracy: 0.0541 - dense_19_accuracy: 0.0593 - val_loss: 17.6182 - val_dense_11_loss: 3.5405 - val_dense_13_loss: 3.5103 - val_dense_15_loss: 3.5172 - val_dense_17_loss: 3.5580 - val_dense_19_loss: 3.4921 - val_dense_11_accuracy: 0.0155 - val_dense_13_accuracy: 0.0309 - val_dense_15_accuracy: 0.0722 - val_dense_17_accuracy: 0.0309 - val_dense_19_accuracy: 0.0258\n",
            "Epoch 2/20\n",
            "25/25 [==============================] - ETA: 0s - loss: 16.5049 - dense_11_loss: 3.3138 - dense_13_loss: 3.1659 - dense_15_loss: 3.3349 - dense_17_loss: 3.3534 - dense_19_loss: 3.3369 - dense_11_accuracy: 0.0915 - dense_13_accuracy: 0.1198 - dense_15_accuracy: 0.0631 - dense_17_accuracy: 0.0902 - dense_19_accuracy: 0.1095WARNING:tensorflow:Early stopping conditioned on metric `dense_20_acc` which is not available. Available metrics are: loss,dense_11_loss,dense_13_loss,dense_15_loss,dense_17_loss,dense_19_loss,dense_11_accuracy,dense_13_accuracy,dense_15_accuracy,dense_17_accuracy,dense_19_accuracy,val_loss,val_dense_11_loss,val_dense_13_loss,val_dense_15_loss,val_dense_17_loss,val_dense_19_loss,val_dense_11_accuracy,val_dense_13_accuracy,val_dense_15_accuracy,val_dense_17_accuracy,val_dense_19_accuracy\n",
            "25/25 [==============================] - 7s 271ms/step - loss: 16.5049 - dense_11_loss: 3.3138 - dense_13_loss: 3.1659 - dense_15_loss: 3.3349 - dense_17_loss: 3.3534 - dense_19_loss: 3.3369 - dense_11_accuracy: 0.0915 - dense_13_accuracy: 0.1198 - dense_15_accuracy: 0.0631 - dense_17_accuracy: 0.0902 - dense_19_accuracy: 0.1095 - val_loss: 17.4546 - val_dense_11_loss: 3.4911 - val_dense_13_loss: 3.4782 - val_dense_15_loss: 3.4795 - val_dense_17_loss: 3.5101 - val_dense_19_loss: 3.4958 - val_dense_11_accuracy: 0.0825 - val_dense_13_accuracy: 0.2680 - val_dense_15_accuracy: 0.0773 - val_dense_17_accuracy: 0.0515 - val_dense_19_accuracy: 0.1340\n",
            "Epoch 3/20\n",
            "25/25 [==============================] - ETA: 0s - loss: 15.1461 - dense_11_loss: 2.8727 - dense_13_loss: 2.8042 - dense_15_loss: 3.1538 - dense_17_loss: 3.2136 - dense_19_loss: 3.1019 - dense_11_accuracy: 0.1985 - dense_13_accuracy: 0.1894 - dense_15_accuracy: 0.0966 - dense_17_accuracy: 0.0941 - dense_19_accuracy: 0.1250WARNING:tensorflow:Early stopping conditioned on metric `dense_20_acc` which is not available. Available metrics are: loss,dense_11_loss,dense_13_loss,dense_15_loss,dense_17_loss,dense_19_loss,dense_11_accuracy,dense_13_accuracy,dense_15_accuracy,dense_17_accuracy,dense_19_accuracy,val_loss,val_dense_11_loss,val_dense_13_loss,val_dense_15_loss,val_dense_17_loss,val_dense_19_loss,val_dense_11_accuracy,val_dense_13_accuracy,val_dense_15_accuracy,val_dense_17_accuracy,val_dense_19_accuracy\n",
            "25/25 [==============================] - 7s 270ms/step - loss: 15.1461 - dense_11_loss: 2.8727 - dense_13_loss: 2.8042 - dense_15_loss: 3.1538 - dense_17_loss: 3.2136 - dense_19_loss: 3.1019 - dense_11_accuracy: 0.1985 - dense_13_accuracy: 0.1894 - dense_15_accuracy: 0.0966 - dense_17_accuracy: 0.0941 - dense_19_accuracy: 0.1250 - val_loss: 17.3948 - val_dense_11_loss: 3.4625 - val_dense_13_loss: 3.4434 - val_dense_15_loss: 3.4957 - val_dense_17_loss: 3.4996 - val_dense_19_loss: 3.4935 - val_dense_11_accuracy: 0.2371 - val_dense_13_accuracy: 0.2526 - val_dense_15_accuracy: 0.1134 - val_dense_17_accuracy: 0.1546 - val_dense_19_accuracy: 0.1186\n",
            "Epoch 4/20\n",
            "25/25 [==============================] - ETA: 0s - loss: 13.4912 - dense_11_loss: 2.3617 - dense_13_loss: 2.3565 - dense_15_loss: 2.9482 - dense_17_loss: 3.0132 - dense_19_loss: 2.8116 - dense_11_accuracy: 0.2977 - dense_13_accuracy: 0.2745 - dense_15_accuracy: 0.1302 - dense_17_accuracy: 0.1482 - dense_19_accuracy: 0.1714WARNING:tensorflow:Early stopping conditioned on metric `dense_20_acc` which is not available. Available metrics are: loss,dense_11_loss,dense_13_loss,dense_15_loss,dense_17_loss,dense_19_loss,dense_11_accuracy,dense_13_accuracy,dense_15_accuracy,dense_17_accuracy,dense_19_accuracy,val_loss,val_dense_11_loss,val_dense_13_loss,val_dense_15_loss,val_dense_17_loss,val_dense_19_loss,val_dense_11_accuracy,val_dense_13_accuracy,val_dense_15_accuracy,val_dense_17_accuracy,val_dense_19_accuracy\n",
            "25/25 [==============================] - 7s 291ms/step - loss: 13.4912 - dense_11_loss: 2.3617 - dense_13_loss: 2.3565 - dense_15_loss: 2.9482 - dense_17_loss: 3.0132 - dense_19_loss: 2.8116 - dense_11_accuracy: 0.2977 - dense_13_accuracy: 0.2745 - dense_15_accuracy: 0.1302 - dense_17_accuracy: 0.1482 - dense_19_accuracy: 0.1714 - val_loss: 17.1239 - val_dense_11_loss: 3.4145 - val_dense_13_loss: 3.3455 - val_dense_15_loss: 3.4821 - val_dense_17_loss: 3.4387 - val_dense_19_loss: 3.4432 - val_dense_11_accuracy: 0.4536 - val_dense_13_accuracy: 0.3505 - val_dense_15_accuracy: 0.1701 - val_dense_17_accuracy: 0.1186 - val_dense_19_accuracy: 0.1495\n",
            "Epoch 5/20\n",
            "25/25 [==============================] - ETA: 0s - loss: 11.8530 - dense_11_loss: 1.8030 - dense_13_loss: 1.9612 - dense_15_loss: 2.6447 - dense_17_loss: 2.8385 - dense_19_loss: 2.6056 - dense_11_accuracy: 0.4485 - dense_13_accuracy: 0.3698 - dense_15_accuracy: 0.1959 - dense_17_accuracy: 0.1482 - dense_19_accuracy: 0.2036WARNING:tensorflow:Early stopping conditioned on metric `dense_20_acc` which is not available. Available metrics are: loss,dense_11_loss,dense_13_loss,dense_15_loss,dense_17_loss,dense_19_loss,dense_11_accuracy,dense_13_accuracy,dense_15_accuracy,dense_17_accuracy,dense_19_accuracy,val_loss,val_dense_11_loss,val_dense_13_loss,val_dense_15_loss,val_dense_17_loss,val_dense_19_loss,val_dense_11_accuracy,val_dense_13_accuracy,val_dense_15_accuracy,val_dense_17_accuracy,val_dense_19_accuracy\n",
            "25/25 [==============================] - 7s 273ms/step - loss: 11.8530 - dense_11_loss: 1.8030 - dense_13_loss: 1.9612 - dense_15_loss: 2.6447 - dense_17_loss: 2.8385 - dense_19_loss: 2.6056 - dense_11_accuracy: 0.4485 - dense_13_accuracy: 0.3698 - dense_15_accuracy: 0.1959 - dense_17_accuracy: 0.1482 - dense_19_accuracy: 0.2036 - val_loss: 17.0140 - val_dense_11_loss: 3.4082 - val_dense_13_loss: 3.3176 - val_dense_15_loss: 3.4857 - val_dense_17_loss: 3.3827 - val_dense_19_loss: 3.4199 - val_dense_11_accuracy: 0.1031 - val_dense_13_accuracy: 0.1959 - val_dense_15_accuracy: 0.1495 - val_dense_17_accuracy: 0.1340 - val_dense_19_accuracy: 0.1134\n",
            "Epoch 6/20\n",
            "25/25 [==============================] - ETA: 0s - loss: 10.4566 - dense_11_loss: 1.4823 - dense_13_loss: 1.6809 - dense_15_loss: 2.3991 - dense_17_loss: 2.5590 - dense_19_loss: 2.3355 - dense_11_accuracy: 0.5258 - dense_13_accuracy: 0.4240 - dense_15_accuracy: 0.2345 - dense_17_accuracy: 0.2294 - dense_19_accuracy: 0.2590WARNING:tensorflow:Early stopping conditioned on metric `dense_20_acc` which is not available. Available metrics are: loss,dense_11_loss,dense_13_loss,dense_15_loss,dense_17_loss,dense_19_loss,dense_11_accuracy,dense_13_accuracy,dense_15_accuracy,dense_17_accuracy,dense_19_accuracy,val_loss,val_dense_11_loss,val_dense_13_loss,val_dense_15_loss,val_dense_17_loss,val_dense_19_loss,val_dense_11_accuracy,val_dense_13_accuracy,val_dense_15_accuracy,val_dense_17_accuracy,val_dense_19_accuracy\n",
            "25/25 [==============================] - 7s 272ms/step - loss: 10.4566 - dense_11_loss: 1.4823 - dense_13_loss: 1.6809 - dense_15_loss: 2.3991 - dense_17_loss: 2.5590 - dense_19_loss: 2.3355 - dense_11_accuracy: 0.5258 - dense_13_accuracy: 0.4240 - dense_15_accuracy: 0.2345 - dense_17_accuracy: 0.2294 - dense_19_accuracy: 0.2590 - val_loss: 16.3143 - val_dense_11_loss: 3.2353 - val_dense_13_loss: 3.1396 - val_dense_15_loss: 3.3443 - val_dense_17_loss: 3.2926 - val_dense_19_loss: 3.3024 - val_dense_11_accuracy: 0.2938 - val_dense_13_accuracy: 0.3814 - val_dense_15_accuracy: 0.3196 - val_dense_17_accuracy: 0.1701 - val_dense_19_accuracy: 0.1804\n",
            "Epoch 7/20\n",
            "25/25 [==============================] - ETA: 0s - loss: 8.8641 - dense_11_loss: 1.0949 - dense_13_loss: 1.4353 - dense_15_loss: 2.0927 - dense_17_loss: 2.2430 - dense_19_loss: 1.9983 - dense_11_accuracy: 0.6392 - dense_13_accuracy: 0.5090 - dense_15_accuracy: 0.3041 - dense_17_accuracy: 0.2887 - dense_19_accuracy: 0.3673WARNING:tensorflow:Early stopping conditioned on metric `dense_20_acc` which is not available. Available metrics are: loss,dense_11_loss,dense_13_loss,dense_15_loss,dense_17_loss,dense_19_loss,dense_11_accuracy,dense_13_accuracy,dense_15_accuracy,dense_17_accuracy,dense_19_accuracy,val_loss,val_dense_11_loss,val_dense_13_loss,val_dense_15_loss,val_dense_17_loss,val_dense_19_loss,val_dense_11_accuracy,val_dense_13_accuracy,val_dense_15_accuracy,val_dense_17_accuracy,val_dense_19_accuracy\n",
            "25/25 [==============================] - 7s 273ms/step - loss: 8.8641 - dense_11_loss: 1.0949 - dense_13_loss: 1.4353 - dense_15_loss: 2.0927 - dense_17_loss: 2.2430 - dense_19_loss: 1.9983 - dense_11_accuracy: 0.6392 - dense_13_accuracy: 0.5090 - dense_15_accuracy: 0.3041 - dense_17_accuracy: 0.2887 - dense_19_accuracy: 0.3673 - val_loss: 15.9332 - val_dense_11_loss: 3.0215 - val_dense_13_loss: 3.0577 - val_dense_15_loss: 3.3512 - val_dense_17_loss: 3.2608 - val_dense_19_loss: 3.2421 - val_dense_11_accuracy: 0.3608 - val_dense_13_accuracy: 0.2629 - val_dense_15_accuracy: 0.2165 - val_dense_17_accuracy: 0.1701 - val_dense_19_accuracy: 0.1701\n",
            "Epoch 8/20\n",
            "25/25 [==============================] - ETA: 0s - loss: 7.7353 - dense_11_loss: 0.8167 - dense_13_loss: 1.1690 - dense_15_loss: 1.9472 - dense_17_loss: 2.0506 - dense_19_loss: 1.7517 - dense_11_accuracy: 0.7165 - dense_13_accuracy: 0.5966 - dense_15_accuracy: 0.3750 - dense_17_accuracy: 0.3351 - dense_19_accuracy: 0.4369WARNING:tensorflow:Early stopping conditioned on metric `dense_20_acc` which is not available. Available metrics are: loss,dense_11_loss,dense_13_loss,dense_15_loss,dense_17_loss,dense_19_loss,dense_11_accuracy,dense_13_accuracy,dense_15_accuracy,dense_17_accuracy,dense_19_accuracy,val_loss,val_dense_11_loss,val_dense_13_loss,val_dense_15_loss,val_dense_17_loss,val_dense_19_loss,val_dense_11_accuracy,val_dense_13_accuracy,val_dense_15_accuracy,val_dense_17_accuracy,val_dense_19_accuracy\n",
            "25/25 [==============================] - 7s 274ms/step - loss: 7.7353 - dense_11_loss: 0.8167 - dense_13_loss: 1.1690 - dense_15_loss: 1.9472 - dense_17_loss: 2.0506 - dense_19_loss: 1.7517 - dense_11_accuracy: 0.7165 - dense_13_accuracy: 0.5966 - dense_15_accuracy: 0.3750 - dense_17_accuracy: 0.3351 - dense_19_accuracy: 0.4369 - val_loss: 14.7846 - val_dense_11_loss: 2.6916 - val_dense_13_loss: 2.8104 - val_dense_15_loss: 3.1357 - val_dense_17_loss: 3.0819 - val_dense_19_loss: 3.0650 - val_dense_11_accuracy: 0.8505 - val_dense_13_accuracy: 0.7784 - val_dense_15_accuracy: 0.4381 - val_dense_17_accuracy: 0.4742 - val_dense_19_accuracy: 0.4794\n",
            "Epoch 9/20\n",
            "25/25 [==============================] - ETA: 0s - loss: 6.5366 - dense_11_loss: 0.7150 - dense_13_loss: 0.9868 - dense_15_loss: 1.6020 - dense_17_loss: 1.7398 - dense_19_loss: 1.4930 - dense_11_accuracy: 0.7384 - dense_13_accuracy: 0.6572 - dense_15_accuracy: 0.4613 - dense_17_accuracy: 0.4265 - dense_19_accuracy: 0.4871WARNING:tensorflow:Early stopping conditioned on metric `dense_20_acc` which is not available. Available metrics are: loss,dense_11_loss,dense_13_loss,dense_15_loss,dense_17_loss,dense_19_loss,dense_11_accuracy,dense_13_accuracy,dense_15_accuracy,dense_17_accuracy,dense_19_accuracy,val_loss,val_dense_11_loss,val_dense_13_loss,val_dense_15_loss,val_dense_17_loss,val_dense_19_loss,val_dense_11_accuracy,val_dense_13_accuracy,val_dense_15_accuracy,val_dense_17_accuracy,val_dense_19_accuracy\n",
            "25/25 [==============================] - 7s 272ms/step - loss: 6.5366 - dense_11_loss: 0.7150 - dense_13_loss: 0.9868 - dense_15_loss: 1.6020 - dense_17_loss: 1.7398 - dense_19_loss: 1.4930 - dense_11_accuracy: 0.7384 - dense_13_accuracy: 0.6572 - dense_15_accuracy: 0.4613 - dense_17_accuracy: 0.4265 - dense_19_accuracy: 0.4871 - val_loss: 13.3200 - val_dense_11_loss: 2.2662 - val_dense_13_loss: 2.4646 - val_dense_15_loss: 2.8666 - val_dense_17_loss: 2.8724 - val_dense_19_loss: 2.8503 - val_dense_11_accuracy: 0.8763 - val_dense_13_accuracy: 0.7268 - val_dense_15_accuracy: 0.5155 - val_dense_17_accuracy: 0.4742 - val_dense_19_accuracy: 0.5361\n",
            "Epoch 10/20\n",
            "25/25 [==============================] - ETA: 0s - loss: 5.9595 - dense_11_loss: 0.6421 - dense_13_loss: 0.9171 - dense_15_loss: 1.4462 - dense_17_loss: 1.6102 - dense_19_loss: 1.3438 - dense_11_accuracy: 0.7539 - dense_13_accuracy: 0.6997 - dense_15_accuracy: 0.4961 - dense_17_accuracy: 0.4652 - dense_19_accuracy: 0.5361WARNING:tensorflow:Early stopping conditioned on metric `dense_20_acc` which is not available. Available metrics are: loss,dense_11_loss,dense_13_loss,dense_15_loss,dense_17_loss,dense_19_loss,dense_11_accuracy,dense_13_accuracy,dense_15_accuracy,dense_17_accuracy,dense_19_accuracy,val_loss,val_dense_11_loss,val_dense_13_loss,val_dense_15_loss,val_dense_17_loss,val_dense_19_loss,val_dense_11_accuracy,val_dense_13_accuracy,val_dense_15_accuracy,val_dense_17_accuracy,val_dense_19_accuracy\n",
            "25/25 [==============================] - 7s 272ms/step - loss: 5.9595 - dense_11_loss: 0.6421 - dense_13_loss: 0.9171 - dense_15_loss: 1.4462 - dense_17_loss: 1.6102 - dense_19_loss: 1.3438 - dense_11_accuracy: 0.7539 - dense_13_accuracy: 0.6997 - dense_15_accuracy: 0.4961 - dense_17_accuracy: 0.4652 - dense_19_accuracy: 0.5361 - val_loss: 12.1814 - val_dense_11_loss: 2.0002 - val_dense_13_loss: 2.1737 - val_dense_15_loss: 2.6795 - val_dense_17_loss: 2.7134 - val_dense_19_loss: 2.6147 - val_dense_11_accuracy: 0.9278 - val_dense_13_accuracy: 0.7990 - val_dense_15_accuracy: 0.6186 - val_dense_17_accuracy: 0.6289 - val_dense_19_accuracy: 0.5722\n",
            "Epoch 11/20\n",
            "25/25 [==============================] - ETA: 0s - loss: 5.1492 - dense_11_loss: 0.5604 - dense_13_loss: 0.7823 - dense_15_loss: 1.2137 - dense_17_loss: 1.4522 - dense_19_loss: 1.1407 - dense_11_accuracy: 0.7964 - dense_13_accuracy: 0.7152 - dense_15_accuracy: 0.5812 - dense_17_accuracy: 0.5142 - dense_19_accuracy: 0.6018WARNING:tensorflow:Early stopping conditioned on metric `dense_20_acc` which is not available. Available metrics are: loss,dense_11_loss,dense_13_loss,dense_15_loss,dense_17_loss,dense_19_loss,dense_11_accuracy,dense_13_accuracy,dense_15_accuracy,dense_17_accuracy,dense_19_accuracy,val_loss,val_dense_11_loss,val_dense_13_loss,val_dense_15_loss,val_dense_17_loss,val_dense_19_loss,val_dense_11_accuracy,val_dense_13_accuracy,val_dense_15_accuracy,val_dense_17_accuracy,val_dense_19_accuracy\n",
            "25/25 [==============================] - 7s 273ms/step - loss: 5.1492 - dense_11_loss: 0.5604 - dense_13_loss: 0.7823 - dense_15_loss: 1.2137 - dense_17_loss: 1.4522 - dense_19_loss: 1.1407 - dense_11_accuracy: 0.7964 - dense_13_accuracy: 0.7152 - dense_15_accuracy: 0.5812 - dense_17_accuracy: 0.5142 - dense_19_accuracy: 0.6018 - val_loss: 10.8942 - val_dense_11_loss: 1.6307 - val_dense_13_loss: 1.8854 - val_dense_15_loss: 2.4631 - val_dense_17_loss: 2.5485 - val_dense_19_loss: 2.3666 - val_dense_11_accuracy: 0.9330 - val_dense_13_accuracy: 0.7784 - val_dense_15_accuracy: 0.5928 - val_dense_17_accuracy: 0.5825 - val_dense_19_accuracy: 0.6856\n",
            "Epoch 12/20\n",
            "25/25 [==============================] - ETA: 0s - loss: 4.6102 - dense_11_loss: 0.4968 - dense_13_loss: 0.6774 - dense_15_loss: 1.0653 - dense_17_loss: 1.2672 - dense_19_loss: 1.1035 - dense_11_accuracy: 0.8157 - dense_13_accuracy: 0.7552 - dense_15_accuracy: 0.6340 - dense_17_accuracy: 0.5528 - dense_19_accuracy: 0.6044WARNING:tensorflow:Early stopping conditioned on metric `dense_20_acc` which is not available. Available metrics are: loss,dense_11_loss,dense_13_loss,dense_15_loss,dense_17_loss,dense_19_loss,dense_11_accuracy,dense_13_accuracy,dense_15_accuracy,dense_17_accuracy,dense_19_accuracy,val_loss,val_dense_11_loss,val_dense_13_loss,val_dense_15_loss,val_dense_17_loss,val_dense_19_loss,val_dense_11_accuracy,val_dense_13_accuracy,val_dense_15_accuracy,val_dense_17_accuracy,val_dense_19_accuracy\n",
            "25/25 [==============================] - 7s 273ms/step - loss: 4.6102 - dense_11_loss: 0.4968 - dense_13_loss: 0.6774 - dense_15_loss: 1.0653 - dense_17_loss: 1.2672 - dense_19_loss: 1.1035 - dense_11_accuracy: 0.8157 - dense_13_accuracy: 0.7552 - dense_15_accuracy: 0.6340 - dense_17_accuracy: 0.5528 - dense_19_accuracy: 0.6044 - val_loss: 10.3403 - val_dense_11_loss: 1.5879 - val_dense_13_loss: 1.6899 - val_dense_15_loss: 2.2921 - val_dense_17_loss: 2.4237 - val_dense_19_loss: 2.3467 - val_dense_11_accuracy: 0.9588 - val_dense_13_accuracy: 0.8351 - val_dense_15_accuracy: 0.6598 - val_dense_17_accuracy: 0.6237 - val_dense_19_accuracy: 0.6392\n",
            "Epoch 13/20\n",
            "25/25 [==============================] - ETA: 0s - loss: 4.2553 - dense_11_loss: 0.4444 - dense_13_loss: 0.5775 - dense_15_loss: 1.0382 - dense_17_loss: 1.1622 - dense_19_loss: 1.0330 - dense_11_accuracy: 0.8557 - dense_13_accuracy: 0.7912 - dense_15_accuracy: 0.6327 - dense_17_accuracy: 0.5722 - dense_19_accuracy: 0.6237WARNING:tensorflow:Early stopping conditioned on metric `dense_20_acc` which is not available. Available metrics are: loss,dense_11_loss,dense_13_loss,dense_15_loss,dense_17_loss,dense_19_loss,dense_11_accuracy,dense_13_accuracy,dense_15_accuracy,dense_17_accuracy,dense_19_accuracy,val_loss,val_dense_11_loss,val_dense_13_loss,val_dense_15_loss,val_dense_17_loss,val_dense_19_loss,val_dense_11_accuracy,val_dense_13_accuracy,val_dense_15_accuracy,val_dense_17_accuracy,val_dense_19_accuracy\n",
            "25/25 [==============================] - 7s 281ms/step - loss: 4.2553 - dense_11_loss: 0.4444 - dense_13_loss: 0.5775 - dense_15_loss: 1.0382 - dense_17_loss: 1.1622 - dense_19_loss: 1.0330 - dense_11_accuracy: 0.8557 - dense_13_accuracy: 0.7912 - dense_15_accuracy: 0.6327 - dense_17_accuracy: 0.5722 - dense_19_accuracy: 0.6237 - val_loss: 8.6892 - val_dense_11_loss: 1.0412 - val_dense_13_loss: 1.3792 - val_dense_15_loss: 2.0459 - val_dense_17_loss: 2.1613 - val_dense_19_loss: 2.0617 - val_dense_11_accuracy: 0.9485 - val_dense_13_accuracy: 0.8608 - val_dense_15_accuracy: 0.7113 - val_dense_17_accuracy: 0.6649 - val_dense_19_accuracy: 0.7216\n",
            "Epoch 14/20\n",
            "25/25 [==============================] - ETA: 0s - loss: 3.8611 - dense_11_loss: 0.4168 - dense_13_loss: 0.5643 - dense_15_loss: 0.8796 - dense_17_loss: 1.0996 - dense_19_loss: 0.9009 - dense_11_accuracy: 0.8492 - dense_13_accuracy: 0.7887 - dense_15_accuracy: 0.6791 - dense_17_accuracy: 0.6044 - dense_19_accuracy: 0.6753WARNING:tensorflow:Early stopping conditioned on metric `dense_20_acc` which is not available. Available metrics are: loss,dense_11_loss,dense_13_loss,dense_15_loss,dense_17_loss,dense_19_loss,dense_11_accuracy,dense_13_accuracy,dense_15_accuracy,dense_17_accuracy,dense_19_accuracy,val_loss,val_dense_11_loss,val_dense_13_loss,val_dense_15_loss,val_dense_17_loss,val_dense_19_loss,val_dense_11_accuracy,val_dense_13_accuracy,val_dense_15_accuracy,val_dense_17_accuracy,val_dense_19_accuracy\n",
            "25/25 [==============================] - 7s 274ms/step - loss: 3.8611 - dense_11_loss: 0.4168 - dense_13_loss: 0.5643 - dense_15_loss: 0.8796 - dense_17_loss: 1.0996 - dense_19_loss: 0.9009 - dense_11_accuracy: 0.8492 - dense_13_accuracy: 0.7887 - dense_15_accuracy: 0.6791 - dense_17_accuracy: 0.6044 - dense_19_accuracy: 0.6753 - val_loss: 7.9715 - val_dense_11_loss: 0.9567 - val_dense_13_loss: 1.2486 - val_dense_15_loss: 1.8818 - val_dense_17_loss: 2.0403 - val_dense_19_loss: 1.8441 - val_dense_11_accuracy: 0.9485 - val_dense_13_accuracy: 0.8814 - val_dense_15_accuracy: 0.6959 - val_dense_17_accuracy: 0.6701 - val_dense_19_accuracy: 0.7577\n",
            "Epoch 15/20\n",
            "25/25 [==============================] - ETA: 0s - loss: 3.4975 - dense_11_loss: 0.4050 - dense_13_loss: 0.4215 - dense_15_loss: 0.8189 - dense_17_loss: 1.0060 - dense_19_loss: 0.8461 - dense_11_accuracy: 0.8505 - dense_13_accuracy: 0.8647 - dense_15_accuracy: 0.7165 - dense_17_accuracy: 0.6237 - dense_19_accuracy: 0.7036WARNING:tensorflow:Early stopping conditioned on metric `dense_20_acc` which is not available. Available metrics are: loss,dense_11_loss,dense_13_loss,dense_15_loss,dense_17_loss,dense_19_loss,dense_11_accuracy,dense_13_accuracy,dense_15_accuracy,dense_17_accuracy,dense_19_accuracy,val_loss,val_dense_11_loss,val_dense_13_loss,val_dense_15_loss,val_dense_17_loss,val_dense_19_loss,val_dense_11_accuracy,val_dense_13_accuracy,val_dense_15_accuracy,val_dense_17_accuracy,val_dense_19_accuracy\n",
            "25/25 [==============================] - 7s 273ms/step - loss: 3.4975 - dense_11_loss: 0.4050 - dense_13_loss: 0.4215 - dense_15_loss: 0.8189 - dense_17_loss: 1.0060 - dense_19_loss: 0.8461 - dense_11_accuracy: 0.8505 - dense_13_accuracy: 0.8647 - dense_15_accuracy: 0.7165 - dense_17_accuracy: 0.6237 - dense_19_accuracy: 0.7036 - val_loss: 6.3586 - val_dense_11_loss: 0.5873 - val_dense_13_loss: 0.8516 - val_dense_15_loss: 1.5289 - val_dense_17_loss: 1.7777 - val_dense_19_loss: 1.6131 - val_dense_11_accuracy: 0.9691 - val_dense_13_accuracy: 0.8660 - val_dense_15_accuracy: 0.7474 - val_dense_17_accuracy: 0.6856 - val_dense_19_accuracy: 0.7680\n",
            "Epoch 16/20\n",
            "25/25 [==============================] - ETA: 0s - loss: 3.0926 - dense_11_loss: 0.3093 - dense_13_loss: 0.4398 - dense_15_loss: 0.7996 - dense_17_loss: 0.8467 - dense_19_loss: 0.6972 - dense_11_accuracy: 0.8943 - dense_13_accuracy: 0.8505 - dense_15_accuracy: 0.7191 - dense_17_accuracy: 0.7010 - dense_19_accuracy: 0.7603WARNING:tensorflow:Early stopping conditioned on metric `dense_20_acc` which is not available. Available metrics are: loss,dense_11_loss,dense_13_loss,dense_15_loss,dense_17_loss,dense_19_loss,dense_11_accuracy,dense_13_accuracy,dense_15_accuracy,dense_17_accuracy,dense_19_accuracy,val_loss,val_dense_11_loss,val_dense_13_loss,val_dense_15_loss,val_dense_17_loss,val_dense_19_loss,val_dense_11_accuracy,val_dense_13_accuracy,val_dense_15_accuracy,val_dense_17_accuracy,val_dense_19_accuracy\n",
            "25/25 [==============================] - 7s 274ms/step - loss: 3.0926 - dense_11_loss: 0.3093 - dense_13_loss: 0.4398 - dense_15_loss: 0.7996 - dense_17_loss: 0.8467 - dense_19_loss: 0.6972 - dense_11_accuracy: 0.8943 - dense_13_accuracy: 0.8505 - dense_15_accuracy: 0.7191 - dense_17_accuracy: 0.7010 - dense_19_accuracy: 0.7603 - val_loss: 5.2895 - val_dense_11_loss: 0.4183 - val_dense_13_loss: 0.7082 - val_dense_15_loss: 1.3096 - val_dense_17_loss: 1.5529 - val_dense_19_loss: 1.3005 - val_dense_11_accuracy: 0.9588 - val_dense_13_accuracy: 0.9021 - val_dense_15_accuracy: 0.7835 - val_dense_17_accuracy: 0.7010 - val_dense_19_accuracy: 0.7784\n",
            "Epoch 17/20\n",
            "25/25 [==============================] - ETA: 0s - loss: 2.9481 - dense_11_loss: 0.3119 - dense_13_loss: 0.3438 - dense_15_loss: 0.6880 - dense_17_loss: 0.8470 - dense_19_loss: 0.7573 - dense_11_accuracy: 0.8763 - dense_13_accuracy: 0.8763 - dense_15_accuracy: 0.7513 - dense_17_accuracy: 0.6869 - dense_19_accuracy: 0.7268WARNING:tensorflow:Early stopping conditioned on metric `dense_20_acc` which is not available. Available metrics are: loss,dense_11_loss,dense_13_loss,dense_15_loss,dense_17_loss,dense_19_loss,dense_11_accuracy,dense_13_accuracy,dense_15_accuracy,dense_17_accuracy,dense_19_accuracy,val_loss,val_dense_11_loss,val_dense_13_loss,val_dense_15_loss,val_dense_17_loss,val_dense_19_loss,val_dense_11_accuracy,val_dense_13_accuracy,val_dense_15_accuracy,val_dense_17_accuracy,val_dense_19_accuracy\n",
            "25/25 [==============================] - 7s 275ms/step - loss: 2.9481 - dense_11_loss: 0.3119 - dense_13_loss: 0.3438 - dense_15_loss: 0.6880 - dense_17_loss: 0.8470 - dense_19_loss: 0.7573 - dense_11_accuracy: 0.8763 - dense_13_accuracy: 0.8763 - dense_15_accuracy: 0.7513 - dense_17_accuracy: 0.6869 - dense_19_accuracy: 0.7268 - val_loss: 4.1217 - val_dense_11_loss: 0.2366 - val_dense_13_loss: 0.4783 - val_dense_15_loss: 1.1005 - val_dense_17_loss: 1.2517 - val_dense_19_loss: 1.0546 - val_dense_11_accuracy: 0.9742 - val_dense_13_accuracy: 0.8866 - val_dense_15_accuracy: 0.7577 - val_dense_17_accuracy: 0.7165 - val_dense_19_accuracy: 0.7680\n",
            "Epoch 18/20\n",
            "25/25 [==============================] - ETA: 0s - loss: 2.7569 - dense_11_loss: 0.2776 - dense_13_loss: 0.3314 - dense_15_loss: 0.7006 - dense_17_loss: 0.7755 - dense_19_loss: 0.6717 - dense_11_accuracy: 0.9072 - dense_13_accuracy: 0.8789 - dense_15_accuracy: 0.7461 - dense_17_accuracy: 0.7126 - dense_19_accuracy: 0.7461WARNING:tensorflow:Early stopping conditioned on metric `dense_20_acc` which is not available. Available metrics are: loss,dense_11_loss,dense_13_loss,dense_15_loss,dense_17_loss,dense_19_loss,dense_11_accuracy,dense_13_accuracy,dense_15_accuracy,dense_17_accuracy,dense_19_accuracy,val_loss,val_dense_11_loss,val_dense_13_loss,val_dense_15_loss,val_dense_17_loss,val_dense_19_loss,val_dense_11_accuracy,val_dense_13_accuracy,val_dense_15_accuracy,val_dense_17_accuracy,val_dense_19_accuracy\n",
            "25/25 [==============================] - 7s 274ms/step - loss: 2.7569 - dense_11_loss: 0.2776 - dense_13_loss: 0.3314 - dense_15_loss: 0.7006 - dense_17_loss: 0.7755 - dense_19_loss: 0.6717 - dense_11_accuracy: 0.9072 - dense_13_accuracy: 0.8789 - dense_15_accuracy: 0.7461 - dense_17_accuracy: 0.7126 - dense_19_accuracy: 0.7461 - val_loss: 3.7714 - val_dense_11_loss: 0.2141 - val_dense_13_loss: 0.4259 - val_dense_15_loss: 0.9690 - val_dense_17_loss: 1.1234 - val_dense_19_loss: 1.0389 - val_dense_11_accuracy: 0.9691 - val_dense_13_accuracy: 0.9021 - val_dense_15_accuracy: 0.8093 - val_dense_17_accuracy: 0.7526 - val_dense_19_accuracy: 0.7629\n",
            "Epoch 19/20\n",
            "25/25 [==============================] - ETA: 0s - loss: 2.8065 - dense_11_loss: 0.3076 - dense_13_loss: 0.3387 - dense_15_loss: 0.6673 - dense_17_loss: 0.8004 - dense_19_loss: 0.6924 - dense_11_accuracy: 0.8866 - dense_13_accuracy: 0.8737 - dense_15_accuracy: 0.7539 - dense_17_accuracy: 0.7152 - dense_19_accuracy: 0.7294WARNING:tensorflow:Early stopping conditioned on metric `dense_20_acc` which is not available. Available metrics are: loss,dense_11_loss,dense_13_loss,dense_15_loss,dense_17_loss,dense_19_loss,dense_11_accuracy,dense_13_accuracy,dense_15_accuracy,dense_17_accuracy,dense_19_accuracy,val_loss,val_dense_11_loss,val_dense_13_loss,val_dense_15_loss,val_dense_17_loss,val_dense_19_loss,val_dense_11_accuracy,val_dense_13_accuracy,val_dense_15_accuracy,val_dense_17_accuracy,val_dense_19_accuracy\n",
            "25/25 [==============================] - 7s 274ms/step - loss: 2.8065 - dense_11_loss: 0.3076 - dense_13_loss: 0.3387 - dense_15_loss: 0.6673 - dense_17_loss: 0.8004 - dense_19_loss: 0.6924 - dense_11_accuracy: 0.8866 - dense_13_accuracy: 0.8737 - dense_15_accuracy: 0.7539 - dense_17_accuracy: 0.7152 - dense_19_accuracy: 0.7294 - val_loss: 3.6338 - val_dense_11_loss: 0.1801 - val_dense_13_loss: 0.4277 - val_dense_15_loss: 0.9102 - val_dense_17_loss: 1.1293 - val_dense_19_loss: 0.9865 - val_dense_11_accuracy: 0.9639 - val_dense_13_accuracy: 0.8969 - val_dense_15_accuracy: 0.7887 - val_dense_17_accuracy: 0.7474 - val_dense_19_accuracy: 0.7629\n",
            "Epoch 20/20\n",
            "25/25 [==============================] - ETA: 0s - loss: 2.4551 - dense_11_loss: 0.2887 - dense_13_loss: 0.3353 - dense_15_loss: 0.5384 - dense_17_loss: 0.6886 - dense_19_loss: 0.6040 - dense_11_accuracy: 0.8866 - dense_13_accuracy: 0.8711 - dense_15_accuracy: 0.8080 - dense_17_accuracy: 0.7629 - dense_19_accuracy: 0.7668WARNING:tensorflow:Early stopping conditioned on metric `dense_20_acc` which is not available. Available metrics are: loss,dense_11_loss,dense_13_loss,dense_15_loss,dense_17_loss,dense_19_loss,dense_11_accuracy,dense_13_accuracy,dense_15_accuracy,dense_17_accuracy,dense_19_accuracy,val_loss,val_dense_11_loss,val_dense_13_loss,val_dense_15_loss,val_dense_17_loss,val_dense_19_loss,val_dense_11_accuracy,val_dense_13_accuracy,val_dense_15_accuracy,val_dense_17_accuracy,val_dense_19_accuracy\n",
            "25/25 [==============================] - 7s 273ms/step - loss: 2.4551 - dense_11_loss: 0.2887 - dense_13_loss: 0.3353 - dense_15_loss: 0.5384 - dense_17_loss: 0.6886 - dense_19_loss: 0.6040 - dense_11_accuracy: 0.8866 - dense_13_accuracy: 0.8711 - dense_15_accuracy: 0.8080 - dense_17_accuracy: 0.7629 - dense_19_accuracy: 0.7668 - val_loss: 3.2074 - val_dense_11_loss: 0.1720 - val_dense_13_loss: 0.3596 - val_dense_15_loss: 0.8465 - val_dense_17_loss: 1.0276 - val_dense_19_loss: 0.8017 - val_dense_11_accuracy: 0.9691 - val_dense_13_accuracy: 0.8969 - val_dense_15_accuracy: 0.7938 - val_dense_17_accuracy: 0.7474 - val_dense_19_accuracy: 0.7990\n"
          ]
        }
      ]
    },
    {
      "cell_type": "code",
      "source": [
        "# Define function to predict captcha\n",
        "def predict(filepath):\n",
        "    img = cv2.imread(filepath, cv2.IMREAD_GRAYSCALE)\n",
        "    if img is not None:\n",
        "        img = img / 255.0\n",
        "    else:\n",
        "        print(\"Not detected\");\n",
        "    res = np.array(model.predict(img[np.newaxis, :, :, np.newaxis]))\n",
        "    ans = np.reshape(res, (5, 36))\n",
        "    l_ind = []\n",
        "    probs = []\n",
        "    for a in ans:\n",
        "        l_ind.append(np.argmax(a))\n",
        "        #probs.append(np.max(a))\n",
        "\n",
        "    capt = ''\n",
        "    for l in l_ind:\n",
        "        capt += symbols[l]\n",
        "    return capt#, sum(probs) / 5\n",
        "\n"
      ],
      "metadata": {
        "id": "i4X_r6Hj5CYp"
      },
      "execution_count": null,
      "outputs": []
    },
    {
      "cell_type": "code",
      "source": [
        "score= model.evaluate(X_test,[y_test[0], y_test[1], y_test[2], y_test[3], y_test[4]],verbose=1)\n",
        "print('Test Loss and accuracy:', score)"
      ],
      "metadata": {
        "colab": {
          "base_uri": "https://localhost:8080/"
        },
        "id": "LYs-XJ2x5IZT",
        "outputId": "efaa4839-093c-46bb-e64c-0fcd1e6a6de5"
      },
      "execution_count": null,
      "outputs": [
        {
          "output_type": "stream",
          "name": "stdout",
          "text": [
            "4/4 [==============================] - 0s 52ms/step - loss: 3.2137 - dense_1_loss: 0.2083 - dense_3_loss: 0.4840 - dense_5_loss: 0.7549 - dense_7_loss: 0.9952 - dense_9_loss: 0.7714 - dense_1_accuracy: 0.9703 - dense_3_accuracy: 0.9208 - dense_5_accuracy: 0.8416 - dense_7_accuracy: 0.7426 - dense_9_accuracy: 0.8317\n",
            "Test Loss and accuracy: [3.213733673095703, 0.20827683806419373, 0.48399412631988525, 0.7548567056655884, 0.9952440857887268, 0.7713620662689209, 0.9702970385551453, 0.9207921028137207, 0.8415841460227966, 0.7425742745399475, 0.8316831588745117]\n"
          ]
        }
      ]
    },
    {
      "cell_type": "code",
      "source": [
        "#Lets test an unknown captcha\n",
        "#preview\n",
        "%matplotlib inline \n",
        "import matplotlib.pyplot as plt\n",
        "img=cv2.imread('/samples/44fyb.png',cv2.IMREAD_GRAYSCALE)\n",
        "plt.imshow(img, cmap=plt.get_cmap('gray'))"
      ],
      "metadata": {
        "colab": {
          "base_uri": "https://localhost:8080/",
          "height": 152
        },
        "id": "ReDvo11o5K7U",
        "outputId": "0d3edc05-a365-439c-9c9c-e568013d8f48"
      },
      "execution_count": null,
      "outputs": [
        {
          "output_type": "execute_result",
          "data": {
            "text/plain": [
              "<matplotlib.image.AxesImage at 0x7f9a95cfd350>"
            ]
          },
          "metadata": {},
          "execution_count": 69
        },
        {
          "output_type": "display_data",
          "data": {
            "text/plain": [
              "<Figure size 432x288 with 1 Axes>"
            ],
            "image/png": "[encoded data removed]"
          },
          "metadata": {
            "needs_background": "light"
          }
        }
      ]
    },
    {
      "cell_type": "code",
      "source": [
        "#Lets Predict By Model\n",
        "print(\"Predicted Captcha =\",predict('/samples/44fyb.png'))"
      ],
      "metadata": {
        "colab": {
          "base_uri": "https://localhost:8080/"
        },
        "id": "K6wQqPLI5Z0T",
        "outputId": "dae450fa-6437-4b79-f276-2aae6640b29c"
      },
      "execution_count": null,
      "outputs": [
        {
          "output_type": "stream",
          "name": "stdout",
          "text": [
            "Predicted Captcha = 44fyb\n"
          ]
        }
      ]
    },
    {
      "cell_type": "code",
      "source": [
        "#tf.keras.models.save_model(model, 'CAPTCHATEXT_MDOEL.pb')\n",
        "\n",
        "model.save(\"my_model.h5\")\n"
      ],
      "metadata": {
        "id": "YqZdFhaJ5iMh"
      },
      "execution_count": null,
      "outputs": []
    },
    {
      "cell_type": "code",
      "source": [
        ""
      ],
      "metadata": {
        "id": "AE1LWtXq5oPX"
      },
      "execution_count": null,
      "outputs": []
    }
  ]
}